{
 "cells": [
  {
   "cell_type": "markdown",
   "metadata": {},
   "source": [
    "# << 제어문 >>\n",
    "## 2-1. while 반복문(+조건문)\n",
    "주어진 조건을 판단하여 조건이 참일 동안 특정한 명령문을 반복적으로 수행하는 것<br>\n",
    "▶ 기본 문법 <br>\n",
    "        while 조건문:<br>\n",
    "            반복적으로 수행할 문장1<br>\n",
    "            반복적으로 수행할 문장2<br>\n",
    "            ...\n",
    "\n",
    "▶ 주의해야할 문법 : \n",
    "- 조건문 뒤에 반드시 콜론(:)을 써야 한다.\n",
    "- 조건문이 있는 문장 하위에 속하는 실행문장들은 반드시 한 번 들여쓰기 되어야 한다. ( 자동 / tab / space 4번)\n",
    "- 무한반복문에 대한 이해와 관련된 키워드(break, continue 등)를 활용할 수 있어야 한다.\n",
    "\n",
    "▶ 무한반복문 : 조건문이 무조건 참인 경우, while 반복문은 무한히 반복된다.\n",
    "- break 키워드 : 특정 조건을 만족할 경우 제어문을 빠져나가 반복을 종료한다.\n",
    "- continue : 특정 조건을 만족할 경우 반복문을 종료하는 것이 아니라 반복문의 시작으로 돌아간다. (참고) pass"
   ]
  },
  {
   "cell_type": "code",
   "execution_count": 8,
   "metadata": {},
   "outputs": [
    {
     "name": "stdout",
     "output_type": "stream",
     "text": [
      "hello world\n",
      "hello world\n",
      "hello world\n",
      "반복 후 loop :  4\n"
     ]
    }
   ],
   "source": [
    "# 3번 출력\n",
    "loop=1\n",
    "while loop<=3:\n",
    "    print(\"hello world\")\n",
    "    loop+=1\n",
    "print(\"반복 후 loop : \",loop)# loop에 1이 더해진 후 한번 더 올라감"
   ]
  },
  {
   "cell_type": "code",
   "execution_count": 14,
   "metadata": {},
   "outputs": [
    {
     "name": "stdout",
     "output_type": "stream",
     "text": [
      "무한 루프\n",
      "무한 루프\n",
      "무한 루프\n",
      "무한 루프\n"
     ]
    }
   ],
   "source": [
    "# while문의 조건식이 무조건 참으로만 판단되는 경우 무한루프가 된다\n",
    "# 이 경우 보통 break문을 조합해 종료시킨다.\n",
    "a=0\n",
    "while True:\n",
    "    print(\"무한 루프\")\n",
    "    if a==3:\n",
    "        break\n",
    "    a+=1"
   ]
  },
  {
   "cell_type": "code",
   "execution_count": 20,
   "metadata": {},
   "outputs": [
    {
     "name": "stdout",
     "output_type": "stream",
     "text": [
      "1\n",
      "3\n",
      "5\n",
      "7\n",
      "9\n"
     ]
    }
   ],
   "source": [
    "# 돌던 바퀴만 스킵하고 전체 반복문 실행은 유지하고 싶을 때 : continue\n",
    "a=0\n",
    "while a<10:\n",
    "    a+=1\n",
    "    if a%2 ==0:\n",
    "        continue\n",
    "    print(a)\n",
    "    "
   ]
  },
  {
   "cell_type": "markdown",
   "metadata": {},
   "source": [
    "#### 학생들의 점수를 나타내는 리스트에서 아래의 구간으로 학점을 매기고, 각 학점별로 몇 명이 있는지를 적합한 데이터 타입으로 저장하세요.\n",
    "\n",
    "- 점수구간\n",
    "\n",
    "    81점 ~ 100점 = A\n",
    "\n",
    "    61점 ~ 80점 = B\n",
    "\n",
    "    41점 ~ 60점 = C\n",
    "\n",
    "    ~ 40점 = Fail"
   ]
  },
  {
   "cell_type": "code",
   "execution_count": 27,
   "metadata": {},
   "outputs": [
    {
     "name": "stdout",
     "output_type": "stream",
     "text": [
      "A : 3명\n",
      "B : 5명\n",
      "C : 3명\n",
      "Fail : 2명\n"
     ]
    }
   ],
   "source": [
    "scores = [90, 89, 83, 61, 69, 77, 75, 64, 45, 56, 50, 10, 20]\n",
    "A,B,C,F=0,0,0,0\n",
    "for score in scores:\n",
    "    if score>=81:\n",
    "        A+=1\n",
    "    elif score>=61:\n",
    "        B+=1\n",
    "    elif score>=41:\n",
    "        C+=1\n",
    "    else:F+=1\n",
    "print(\"A : %d명\\nB : %d명\\nC : %d명\\nFail : %d명\"%(A,B,C,F))"
   ]
  },
  {
   "cell_type": "code",
   "execution_count": 41,
   "metadata": {},
   "outputs": [
    {
     "name": "stdout",
     "output_type": "stream",
     "text": [
      "A : 3명\n",
      "B : 5명\n",
      "C : 3명\n",
      "Fail : 2명\n",
      "[83, 89, 90] [64, 75, 77, 69, 61] [50, 56, 45] [20, 10]\n"
     ]
    }
   ],
   "source": [
    "scores = [90, 89, 83, 61, 69, 77, 75, 64, 45, 56, 50, 10, 20]\n",
    "A,B,C,F=0,0,0,0\n",
    "a_ls,b_ls,c_ls,f_ls=[],[],[],[]\n",
    "loop,score=0,0\n",
    "while scores:\n",
    "    score=scores.pop()\n",
    "    if score>=81:\n",
    "        A+=1\n",
    "        a_ls.append(score)\n",
    "    elif score>=61:\n",
    "        B+=1\n",
    "        b_ls.append(score)\n",
    "    elif score>=41:\n",
    "        C+=1\n",
    "        c_ls.append(score)\n",
    "    else:\n",
    "        F+=1\n",
    "        f_ls.append(score)\n",
    "    \n",
    "print(\"A : %d명\\nB : %d명\\nC : %d명\\nFail : %d명\"%(A,B,C,F))\n",
    "print(a_ls,b_ls,c_ls,f_ls)"
   ]
  }
 ],
 "metadata": {
  "kernelspec": {
   "display_name": "Python 3",
   "language": "python",
   "name": "python3"
  }
 },
 "nbformat": 4,
 "nbformat_minor": 2
}
