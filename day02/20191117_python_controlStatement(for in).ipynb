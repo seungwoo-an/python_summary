{
 "cells": [
  {
   "cell_type": "markdown",
   "metadata": {},
   "source": [
    "# << 제어문 >>\n",
    "\n",
    "\n",
    "\n",
    "# 2-2. for 반복문\n",
    "\n",
    "자료형(리스트, 튜플, 문자열)의 모든 아이템에 대하여 처음부터 마지막까지 차례대로 접근하여 실행문을 적용한다.\\\n",
    "- 딕셔너리는 불가\n",
    "\n",
    "▶ 기본 문법 \n",
    "\n",
    "        for 임시변수 in 자료형 :\n",
    "            수행할 문장1\n",
    "            수행할 문장2\n",
    "            ...\n",
    "            \n",
    "\n",
    "▶ 임시변수 \n",
    "\n",
    "        - for 반복문이 실행되면 자료형의 아이템이 차례대로 임시변수에 할당된다.\n",
    "        \n",
    "        - 기본적으로 변수는 할당문이 존재해야 하지만 임시변수는 할당문이 필요 없는 객체이다. "
   ]
  },
  {
   "cell_type": "code",
   "execution_count": 6,
   "metadata": {},
   "outputs": [
    {
     "name": "stdout",
     "output_type": "stream",
     "text": [
      "hello world\n",
      "hello world\n",
      "hello world\n",
      "2\n",
      "hello world\n",
      "hello world\n",
      "hello world\n",
      "3\n"
     ]
    }
   ],
   "source": [
    "# 하나의 아이템에 접근 : 리스트 자료형\n",
    "a=[1,2,3]\n",
    "for i in range(len(a)):\n",
    "    print(\"hello world\")\n",
    "print(i)#2\n",
    "for i in a:\n",
    "    print(\"hello world\")\n",
    "print(i)#3"
   ]
  },
  {
   "cell_type": "code",
   "execution_count": 8,
   "metadata": {},
   "outputs": [
    {
     "name": "stdout",
     "output_type": "stream",
     "text": [
      "10\n",
      "20\n",
      "30\n"
     ]
    }
   ],
   "source": [
    "# 하나의 아이템에 접근 : 튜플 자료형\n",
    "tu=10,20,30\n",
    "for i in tu:#tu 자체에 영향 없음\n",
    "    print(i)"
   ]
  },
  {
   "cell_type": "code",
   "execution_count": 10,
   "metadata": {},
   "outputs": [
    {
     "name": "stdout",
     "output_type": "stream",
     "text": [
      "a\n",
      "b\n",
      "c\n",
      "d\n"
     ]
    }
   ],
   "source": [
    "#하나의 아이템에 접근 : 문자열\n",
    "for t in 'abcd':\n",
    "    print(t)"
   ]
  },
  {
   "cell_type": "code",
   "execution_count": 19,
   "metadata": {},
   "outputs": [
    {
     "name": "stdout",
     "output_type": "stream",
     "text": [
      "a\n",
      "b\n",
      "c\n",
      "1\n",
      "2\n",
      "3\n"
     ]
    }
   ],
   "source": [
    "#하나의 아이템에 접근 : 딕셔너리 자료형\n",
    "# 딕셔너리 자료형에 대해서는 반복문 접근시 .keys()를 기준으로 접근됨\n",
    "d1={'a':1,'b':2,'c':3}\n",
    "for k in d1:\n",
    "    print(k)\n",
    "for v in d1.values():#하려면 이렇게\n",
    "    print(v)"
   ]
  },
  {
   "cell_type": "code",
   "execution_count": 28,
   "metadata": {},
   "outputs": [
    {
     "name": "stdout",
     "output_type": "stream",
     "text": [
      "a 1\n",
      "b 2\n",
      "c 3\n",
      "('a', 1)\n",
      "('b', 2)\n",
      "('c', 3)\n",
      "a 1\n",
      "b 2\n",
      "c 3\n"
     ]
    }
   ],
   "source": [
    "#dict타입에서 value가져오기\n",
    "for k in d1:\n",
    "    print(k,d1[k])\n",
    "#아이템에 접근하기\n",
    "for i in d1.items():#튜플로 묶여서 들어감\n",
    "    print(i)\n",
    "for k,v in d1.items():#각각 쪼개어져서 들어감\n",
    "    print(k,v)"
   ]
  },
  {
   "cell_type": "markdown",
   "metadata": {},
   "source": [
    "## range 함수\n",
    " 지정된 시작값과 끝값 사이의 숫자들을 자동으로 생성하여 range 객체로 반환하는 함수\n",
    " \n",
    "- 문법 : range(시작하는 값, 끝나는 값, [간격]) \n",
    "\n",
    "- 특징 : 슬라이싱과 유사하게 끝나는 값은 포함되지 않는다."
   ]
  },
  {
   "cell_type": "code",
   "execution_count": 42,
   "metadata": {},
   "outputs": [
    {
     "name": "stdout",
     "output_type": "stream",
     "text": [
      "0\n",
      "1\n",
      "2\n",
      "3\n",
      "4\n"
     ]
    }
   ],
   "source": [
    "# range()를 list로 감싸야 리스트로 변환됨. 변환하지 않아도 for문에서 사용은 가능\n",
    "list(range(1,6))\n",
    "#시작값이 0이라면 끝나는 지점만 입력한다\n",
    "list(range(5))\n",
    "for i in range(5):#바퀴 수 지정\n",
    "    print(i)"
   ]
  },
  {
   "cell_type": "code",
   "execution_count": 44,
   "metadata": {},
   "outputs": [
    {
     "name": "stdout",
     "output_type": "stream",
     "text": [
      "5\n",
      "4\n",
      "3\n",
      "2\n",
      "1\n"
     ]
    }
   ],
   "source": [
    "# 세 번째 숫자는 증가값이 아닌 증감값이므로 음수가 들어갈 수 있다\n",
    "# 음수가 들어가는 경우는 시작숫자가 목표값보다 큰 숫자에서 시작해야 한다.\n",
    "for i in range(5,0,-1):\n",
    "    print(i)"
   ]
  },
  {
   "cell_type": "markdown",
   "metadata": {},
   "source": [
    "### for 반복문 문제\n",
    "\n",
    "학생들의 점수가 저장되어 있는 리스트에서 50점 이상인 학생의 점수만 합한 결과를 출력하세요.\n",
    "\n",
    "[20, 55, 67, 82, 45, 33, 90, 87, 100, 25]"
   ]
  },
  {
   "cell_type": "code",
   "execution_count": 54,
   "metadata": {},
   "outputs": [
    {
     "name": "stdout",
     "output_type": "stream",
     "text": [
      "50점 이상 총합 : 481\n",
      "50점 이상 리스트 : [55, 67, 82, 90, 87, 100]\n"
     ]
    }
   ],
   "source": [
    "scores=[20, 55, 67, 82, 45, 33, 90, 87, 100, 25]\n",
    "sum=0\n",
    "ls=[]\n",
    "'''while scores:\n",
    "    score=scores.pop()\n",
    "    if score>=50:\n",
    "        sum+=score\n",
    "        ls.append(score)\n",
    "print(\"50점 이상 총합 :\",sum)\n",
    "print(\"50점 이상 리스트 :\",ls)'''\n",
    "for score in scores:\n",
    "    if score>=50:\n",
    "        sum+=score\n",
    "        ls.append(score)\n",
    "print(\"50점 이상 총합 :\",sum)\n",
    "print(\"50점 이상 리스트 :\",ls)"
   ]
  }
 ],
 "metadata": {
  "kernelspec": {
   "display_name": "Python 3",
   "language": "python",
   "name": "python3"
  },
  "language_info": {
   "codemirror_mode": {
    "name": "ipython",
    "version": 3
   },
   "file_extension": ".py",
   "mimetype": "text/x-python",
   "name": "python",
   "nbconvert_exporter": "python",
   "pygments_lexer": "ipython3",
   "version": "3.7.4"
  }
 },
 "nbformat": 4,
 "nbformat_minor": 2
}
