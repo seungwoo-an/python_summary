{
 "cells": [
  {
   "cell_type": "markdown",
   "metadata": {},
   "source": [
    "# 데이터 타입\n",
    "# 문자형\n",
    "# >생성하기\n",
    ">여 닫는 따옴표는 반드지 분자의 앞 뒤에서 한 쌍으로 완성되어야 한다.\n",
    "### 1) 한 줄 문자열 : ',\"\n"
   ]
  },
  {
   "cell_type": "code",
   "execution_count": 2,
   "metadata": {},
   "outputs": [
    {
     "data": {
      "text/plain": [
       "'10'"
      ]
     },
     "execution_count": 2,
     "metadata": {},
     "output_type": "execute_result"
    }
   ],
   "source": [
    "10\n",
    "'10'"
   ]
  },
  {
   "cell_type": "code",
   "execution_count": 6,
   "metadata": {},
   "outputs": [
    {
     "name": "stdout",
     "output_type": "stream",
     "text": [
      "안녕 \n",
      "반가워\n"
     ]
    },
    {
     "data": {
      "text/plain": [
       "'안녕 \\n반가워'"
      ]
     },
     "execution_count": 6,
     "metadata": {},
     "output_type": "execute_result"
    }
   ],
   "source": [
    "a='안녕'+' \\n반가워'\n",
    "print(a)\n",
    "a\n",
    "\n"
   ]
  },
  {
   "cell_type": "markdown",
   "metadata": {},
   "source": [
    "# 2) 여러 줄 문자열 : ''', \"\"\"\n",
    "- print() 했을 때 enter가 그대로 반영되는 문자열로 처리 가능\n",
    "- 단 화면에서 보기를 하면(print  없이 주피터 노트북 결과로 보면) 줄바꿈이 바로 나타나지 않고 \\n으로 처리한다"
   ]
  },
  {
   "cell_type": "code",
   "execution_count": 10,
   "metadata": {},
   "outputs": [
    {
     "name": "stdout",
     "output_type": "stream",
     "text": [
      "안녕\n",
      "반가워\n"
     ]
    },
    {
     "data": {
      "text/plain": [
       "'안녕\\n반가워'"
      ]
     },
     "execution_count": 10,
     "metadata": {},
     "output_type": "execute_result"
    }
   ],
   "source": [
    "a='''안녕\n",
    "반가워'''\n",
    "print(a)\n",
    "a"
   ]
  },
  {
   "cell_type": "markdown",
   "metadata": {},
   "source": [
    "## 3) a문자 속에 문자열 기호 사용하기\n",
    "- 문자열에서 자주 쓰는 기호 : ', \""
   ]
  },
  {
   "cell_type": "code",
   "execution_count": 12,
   "metadata": {},
   "outputs": [
    {
     "name": "stdout",
     "output_type": "stream",
     "text": [
      "She's happy\n"
     ]
    },
    {
     "data": {
      "text/plain": [
       "\"She's happy\""
      ]
     },
     "execution_count": 12,
     "metadata": {},
     "output_type": "execute_result"
    }
   ],
   "source": [
    "# 언어 문자에서 많이 쓰이는 기호 : she's, \"ㄷㄷㄷ\"\n",
    "a='She\\'s happy'\n",
    "print(a)\n",
    "a"
   ]
  },
  {
   "cell_type": "code",
   "execution_count": 14,
   "metadata": {},
   "outputs": [
    {
     "name": "stdout",
     "output_type": "stream",
     "text": [
      "오늘은 미세먼지 '좋음'.\n"
     ]
    },
    {
     "data": {
      "text/plain": [
       "\"오늘은 미세먼지 '좋음'.\""
      ]
     },
     "execution_count": 14,
     "metadata": {},
     "output_type": "execute_result"
    }
   ],
   "source": [
    "title = \"오늘은 미세먼지 '좋음'.\"\n",
    "print(title)\n",
    "title"
   ]
  },
  {
   "cell_type": "code",
   "execution_count": 20,
   "metadata": {},
   "outputs": [
    {
     "data": {
      "text/plain": [
       "'aaaaaaaaaaaaaaaaaaaaaaaaaaaaaaaaaaaaaaaaaaaaaaaaaaaaaaaaaaaaaaaaaaaaaaaaaaaaaaaaaaaaa'"
      ]
     },
     "execution_count": 20,
     "metadata": {},
     "output_type": "execute_result"
    }
   ],
   "source": [
    "#만약 단일 따옴표를 쓰는데도 불구하고 여닫는 부분을 다른 줄로 하고 싶다면\n",
    "c = 'aaaaaaaaaaaaaaaaaaaaaaaaaaaaaaaaaaaaaaaaa\\\n",
    "aaaaaaaaaaaaaaaaaaaaaaa\\\n",
    "aaaaaaaaaaaaaaaaaaaaa'\n",
    "print(c)\n",
    "c"
   ]
  },
  {
   "cell_type": "markdown",
   "metadata": {},
   "source": [
    "# 문제\n",
    "lines, line에 할당<br>\n",
    "1. 여러 줄 문자열 활용\n",
    "2. 한 줄 문자열 내부에서"
   ]
  },
  {
   "cell_type": "code",
   "execution_count": 25,
   "metadata": {},
   "outputs": [
    {
     "name": "stdout",
     "output_type": "stream",
     "text": [
      "lines :  파이썬도 배우고\n",
      "장고도 배우고\n",
      "할게 너무 많아 \n",
      "line :  파이썬도 배우고\n",
      "장고도 배우고\n",
      "할게 너무 많아\n"
     ]
    }
   ],
   "source": [
    "lines='''파이썬도 배우고\n",
    "장고도 배우고\n",
    "할게 너무 많아'''\n",
    "line='파이썬도 배우고\\n장고도 배우고\\n할게 너무 많아'\n",
    "print(\"lines : \",lines,\"\\n\\nline : \",line)"
   ]
  },
  {
   "cell_type": "markdown",
   "metadata": {},
   "source": [
    "## > 연산하기\n",
    "### 1) 산술 연산자 : 문자, 숫자를 함께 연산하기 위한 문법 기호\n",
    "- 문자와 문자를 연결\n",
    "- 동일한 문자를 반복해서 연결"
   ]
  },
  {
   "cell_type": "code",
   "execution_count": 28,
   "metadata": {},
   "outputs": [
    {
     "name": "stdout",
     "output_type": "stream",
     "text": [
      "abc \n",
      "\n",
      " abcabc\n"
     ]
    }
   ],
   "source": [
    "a=\"abc\"\n",
    "\n",
    "c=a+a\n",
    "print(a,\"\\n\\n\",c)"
   ]
  },
  {
   "cell_type": "code",
   "execution_count": 32,
   "metadata": {},
   "outputs": [
    {
     "ename": "ValueError",
     "evalue": "invalid literal for int() with base 10: 'a'",
     "output_type": "error",
     "traceback": [
      "\u001b[1;31m---------------------------------------------------------------------------\u001b[0m",
      "\u001b[1;31mValueError\u001b[0m                                Traceback (most recent call last)",
      "\u001b[1;32m<ipython-input-32-233884bacd4e>\u001b[0m in \u001b[0;36m<module>\u001b[1;34m\u001b[0m\n\u001b[1;32m----> 1\u001b[1;33m \u001b[0mint\u001b[0m\u001b[1;33m(\u001b[0m\u001b[1;34m'a'\u001b[0m\u001b[1;33m)\u001b[0m\u001b[1;33m\u001b[0m\u001b[1;33m\u001b[0m\u001b[0m\n\u001b[0m",
      "\u001b[1;31mValueError\u001b[0m: invalid literal for int() with base 10: 'a'"
     ]
    }
   ],
   "source": [
    "# 문자 + 숫자 -> error"
   ]
  },
  {
   "cell_type": "code",
   "execution_count": 35,
   "metadata": {},
   "outputs": [
    {
     "data": {
      "text/plain": [
       "'뮻뮻뮻뮻뮻뮻뮻뮻뮻뮻뮻뮻뮻뮻뮻뮻뮻뮻뮻뮻뮻뮻뮻뮻뮻뮻뮻뮻뮻뮻뮻뮻뮻뮻뮻뮻뮻뮻뮻뮻뮻뮻뮻뮻뮻뮻뮻뮻뮻뮻뮻뮻뮻뮻뮻뮻뮻뮻뮻뮻뮻뮻뮻뮻뮻뮻뮻뮻뮻뮻뮻뮻뮻뮻뮻뮻뮻뮻뮻뮻뮻뮻뮻뮻뮻뮻뮻뮻뮻뮻뮻뮻뮻뮻뮻뮻뮻뮻뮻뮻뮻뮻뮻뮻뮻뮻뮻뮻뮻뮻뮻뮻뮻뮻뮻뮻뮻뮻뮻뮻뮻뮻뮻뮻뮻뮻뮻뮻뮻뮻뮻뮻뮻뮻뮻뮻뮻뮻뮻뮻뮻뮻뮻뮻뮻뮻뮻뮻뮻뮻뮻뮻뮻뮻뮻뮻뮻뮻뮻뮻뮻뮻뮻뮻뮻뮻뮻뮻뮻뮻뮻뮻뮻뮻뮻뮻뮻뮻뮻뮻뮻뮻뮻뮻뮻뮻뮻뮻뮻뮻뮻뮻뮻뮻뮻뮻뮻뮻뮻뮻'"
      ]
     },
     "execution_count": 35,
     "metadata": {},
     "output_type": "execute_result"
    }
   ],
   "source": [
    "# 문자 여러번 반복하기 : *\n",
    "'뮻'*200 # "
   ]
  },
  {
   "cell_type": "code",
   "execution_count": 36,
   "metadata": {},
   "outputs": [],
   "source": [
    "# 문자 * 문자 -> error"
   ]
  },
  {
   "cell_type": "markdown",
   "metadata": {},
   "source": [
    "### 2) 비교 연산자 : 문자의 크기를 비교하기 위한 문법 기호\n",
    "> 문자의 비교\n",
    "* 대문자 vs 소문자 : 대문자 < 소문자 크기가 더 크다\n",
    "* 알파벳 : 알파벳 순서가 뒤에 있을수록 더 크다\n",
    "* 문자 길이 : 길이가 길수록 더 크다"
   ]
  },
  {
   "cell_type": "code",
   "execution_count": null,
   "metadata": {},
   "outputs": [],
   "source": [
    "#A=65, a=97, 소-32=대, 대+32=소\n",
    "#'0'=48,'1'=49\n",
    "#\" \"=32\n",
    "# unicode -> 2byte, ascii 256bits로는 모든 언어를 표현할 수 없기 때문에"
   ]
  },
  {
   "cell_type": "code",
   "execution_count": 44,
   "metadata": {},
   "outputs": [
    {
     "data": {
      "text/plain": [
       "True"
      ]
     },
     "execution_count": 44,
     "metadata": {},
     "output_type": "execute_result"
    }
   ],
   "source": [
    "#대문자 vs 소문자 : 비교연산자(==, !=, <, >)로 확인\n",
    "'A' < 'a'"
   ]
  },
  {
   "cell_type": "code",
   "execution_count": 47,
   "metadata": {},
   "outputs": [
    {
     "data": {
      "text/plain": [
       "True"
      ]
     },
     "execution_count": 47,
     "metadata": {},
     "output_type": "execute_result"
    }
   ],
   "source": [
    "#문자열을 대상으로 할 때는 무조건 첫 글자끼리만 비교한다\n",
    "#문자 길이는 실제 크기 비교에는 영향을 미치지 않는다.\n",
    "'b' < 'BTS'#F\n",
    "'B' < 'BTS'#T"
   ]
  },
  {
   "cell_type": "code",
   "execution_count": 49,
   "metadata": {},
   "outputs": [
    {
     "data": {
      "text/plain": [
       "True"
      ]
     },
     "execution_count": 49,
     "metadata": {},
     "output_type": "execute_result"
    }
   ],
   "source": [
    "#영문자와 영문자 이외의 다른 문자간 비교는 무조건 영문자가 작게 나온다\n",
    "# AsciiCode vs UniCode\n",
    "'z' < '가'"
   ]
  },
  {
   "cell_type": "markdown",
   "metadata": {},
   "source": [
    "# >인덱스\n",
    "- 아이템(대상이 가지고 있는 최소 단위의 값)의 위치를 나타내는 고유한 번호\n",
    "- 첫 번째 위치는 0부터 시작\n",
    "- 마지막 위치는 -1부터 시작\n",
    "### 1) 인덱싱(indexing) : 특정 위치의 하나의 아이템에 접근하기\n",
    "- 인덱싱 문법기호 : 객체[인덱스번호]"
   ]
  },
  {
   "cell_type": "code",
   "execution_count": 51,
   "metadata": {},
   "outputs": [
    {
     "data": {
      "text/plain": [
       "'banana'"
      ]
     },
     "execution_count": 51,
     "metadata": {},
     "output_type": "execute_result"
    }
   ],
   "source": [
    "#banana라는 문자열에 대해 인덱싱\n",
    "txt = 'banana'\n",
    "txt"
   ]
  },
  {
   "cell_type": "code",
   "execution_count": 60,
   "metadata": {},
   "outputs": [
    {
     "data": {
      "text/plain": [
       "'a'"
      ]
     },
     "execution_count": 60,
     "metadata": {},
     "output_type": "execute_result"
    }
   ],
   "source": [
    "#banana라는 문자열의 첫 번째 문자 = 0번째 인덱스 번호\n",
    "#인덱싱 문법 : 문자열(대상 : 값, 자료형)[인덱스번호]\n",
    "txt[0]#'b'\n",
    "txt[-1]#'a'"
   ]
  },
  {
   "cell_type": "code",
   "execution_count": 57,
   "metadata": {},
   "outputs": [
    {
     "name": "stdout",
     "output_type": "stream",
     "text": [
      "b\n",
      "a\n",
      "n\n",
      "a\n",
      "n\n",
      "a\n"
     ]
    }
   ],
   "source": [
    "for i in txt:\n",
    "    print(i)"
   ]
  },
  {
   "cell_type": "code",
   "execution_count": 59,
   "metadata": {},
   "outputs": [
    {
     "name": "stdout",
     "output_type": "stream",
     "text": [
      "b\n",
      "a\n",
      "n\n",
      "a\n",
      "n\n",
      "a\n"
     ]
    }
   ],
   "source": [
    "for i in range(len(txt)):\n",
    "    print(txt[i])"
   ]
  },
  {
   "cell_type": "markdown",
   "metadata": {},
   "source": [
    "### 2)슬라이싱 : 연속된 범위의 여러 아이템에 접근\n",
    "* 대상 객체[처음 인덱스:마지막인덱스(:간격)]\n",
    "* 처음 인덱스 번호는 포함(n부터~)\n",
    "* 마지막 인덱스 번호는 포함하지 않음(~n-1까지)\n",
    "* 간격 조정은 할 수도 있고 하지 않을 수도 있음"
   ]
  },
  {
   "cell_type": "code",
   "execution_count": 65,
   "metadata": {},
   "outputs": [
    {
     "name": "stdout",
     "output_type": "stream",
     "text": [
      "18\n",
      "hello python world\n"
     ]
    }
   ],
   "source": [
    "txt = \"hello python world\"\n",
    "txt1=txt[:5]\n",
    "txt2=txt[6:12]\n",
    "txt3=txt[13:]\n",
    "print(len(txt))\n",
    "print(txt1,txt2,txt3)"
   ]
  },
  {
   "cell_type": "code",
   "execution_count": 67,
   "metadata": {},
   "outputs": [
    {
     "data": {
      "text/plain": [
       "'hello'"
      ]
     },
     "execution_count": 67,
     "metadata": {},
     "output_type": "execute_result"
    }
   ],
   "source": [
    "# 첫 인덱스가 0으로 스타트를 끊는다면 생략 가능\n",
    "txt[:5]"
   ]
  },
  {
   "cell_type": "code",
   "execution_count": 69,
   "metadata": {},
   "outputs": [
    {
     "data": {
      "text/plain": [
       "'python'"
      ]
     },
     "execution_count": 69,
     "metadata": {},
     "output_type": "execute_result"
    }
   ],
   "source": [
    "# 특정 위치부터 마지막 아이템까지 : python\n",
    "# 처음 인덱스 : 6\n",
    "# 마지막 인덱스 : -6\n",
    "txt[6:-6]"
   ]
  },
  {
   "cell_type": "code",
   "execution_count": 71,
   "metadata": {},
   "outputs": [
    {
     "data": {
      "text/plain": [
       "'hello python world'"
      ]
     },
     "execution_count": 71,
     "metadata": {},
     "output_type": "execute_result"
    }
   ],
   "source": [
    "# 전체 : 처음 익덱스와 마지막 인덱스를 모두 쓰지 않으면 전체 아이템을 가져오는 결과\n",
    "# 처음 인덱스 기본값 : 0\n",
    "# 마지막 인덱스 기본값 : 마지막까지\n",
    "txt[:]"
   ]
  },
  {
   "cell_type": "code",
   "execution_count": 75,
   "metadata": {},
   "outputs": [
    {
     "data": {
      "text/plain": [
       "'hlopto ol'"
      ]
     },
     "execution_count": 75,
     "metadata": {},
     "output_type": "execute_result"
    }
   ],
   "source": [
    "#간격 값으로 2를 주고 전체 범위 슬라이싱\n",
    "txt[: :2]"
   ]
  },
  {
   "cell_type": "markdown",
   "metadata": {},
   "source": [
    "## > 연습문제\n",
    "### 20191116미세먼지양호함\n",
    "#### 위 문장을 weather 변수에 저장\n",
    "#### 날짜는 date 변수에 슬라이싱으로 받아오고, micro 변수에 미세먼지 정도를 슬라이싱으로 받아오도록 만들어서 출력"
   ]
  },
  {
   "cell_type": "code",
   "execution_count": 81,
   "metadata": {},
   "outputs": [
    {
     "name": "stdout",
     "output_type": "stream",
     "text": [
      "날짜: 20191116 \n",
      "날씨: 미세먼지양호함\n"
     ]
    }
   ],
   "source": [
    "weather='20191116미세먼지양호함'\n",
    "date=weather[:8]\n",
    "micro=weather[8:]\n",
    "\n",
    "print(\"날짜:\",date,\"\\n날씨:\",micro)"
   ]
  },
  {
   "cell_type": "markdown",
   "metadata": {},
   "source": [
    "# > 포매팅(formatting)\n",
    "- 특정 값만 바뀌고 일정한 형식을 가지는 문자열을 작성할 수 있는 기법\n",
    "### 1. %포매팅\n",
    "* 데이터 타입에 따른 분류 : 정수, 실수, 문자\n",
    "* 옵션 : 문자열 길이, 표현할 아이템 개수, 정렬, 공백"
   ]
  },
  {
   "cell_type": "markdown",
   "metadata": {},
   "source": [
    "#### 1) 숫자 값 대입"
   ]
  },
  {
   "cell_type": "code",
   "execution_count": 82,
   "metadata": {},
   "outputs": [],
   "source": [
    "# 1. 가변자료가 들어갈 자리(땡땡에 해당하는)에 구멍(%자료형)을 낸다\n",
    "# 2. 구멍이 뚫린 문자열 뒤에 %로 연결한 다음 집어넣을 값을 적는다."
   ]
  },
  {
   "cell_type": "code",
   "execution_count": 84,
   "metadata": {},
   "outputs": [
    {
     "data": {
      "text/plain": [
       "'오늘은 21일 입니다.'"
      ]
     },
     "execution_count": 84,
     "metadata": {},
     "output_type": "execute_result"
    }
   ],
   "source": [
    "# 정수 값 포매팅 : 정수(int) -> %d(digit)\n",
    "'오늘은 %d일 입니다.'%21"
   ]
  },
  {
   "cell_type": "code",
   "execution_count": 86,
   "metadata": {},
   "outputs": [
    {
     "data": {
      "text/plain": [
       "'오늘은 21일 입니다.'"
      ]
     },
     "execution_count": 86,
     "metadata": {},
     "output_type": "execute_result"
    }
   ],
   "source": [
    "# 정수 자리의 의미 : 출력되는 형식이 정수라는 의미\n",
    "# 반올림이 아닌 소수점 아래를 버린다.\n",
    "'오늘은 %d일 입니다.'%21.9"
   ]
  },
  {
   "cell_type": "code",
   "execution_count": 88,
   "metadata": {},
   "outputs": [
    {
     "data": {
      "text/plain": [
       "'15.000000'"
      ]
     },
     "execution_count": 88,
     "metadata": {},
     "output_type": "execute_result"
    }
   ],
   "source": [
    "# 실수(float) 값 포매팅\n",
    "# %f를 이용해서 값에 대한 구멍 냄\n",
    "# %f는 기본적으로 소수점 아래 6까지 표현\n",
    "'%f'%15"
   ]
  },
  {
   "cell_type": "code",
   "execution_count": 90,
   "metadata": {},
   "outputs": [
    {
     "data": {
      "text/plain": [
       "'1.123457'"
      ]
     },
     "execution_count": 90,
     "metadata": {},
     "output_type": "execute_result"
    }
   ],
   "source": [
    "# 실수값 포매팅 2 : 집어넣는 값을 실수로 적용\n",
    "# 실수값 포매팅은 반올림이 적용된다.\n",
    "'%f'%1.12345678"
   ]
  },
  {
   "cell_type": "code",
   "execution_count": 93,
   "metadata": {},
   "outputs": [
    {
     "data": {
      "text/plain": [
       "'1.235'"
      ]
     },
     "execution_count": 93,
     "metadata": {},
     "output_type": "execute_result"
    }
   ],
   "source": [
    "# 옵션 : 소수점 아래 자리를 몇자리까지 출력할지 정할 수 있음\n",
    "# %.nf or %0.nf : 소주점 아래 n자리까지만 표현\n",
    "'%.3f'%1.2345678"
   ]
  },
  {
   "cell_type": "code",
   "execution_count": 95,
   "metadata": {},
   "outputs": [
    {
     "data": {
      "text/plain": [
       "'오늘은 11월 16일 입니다.'"
      ]
     },
     "execution_count": 95,
     "metadata": {},
     "output_type": "execute_result"
    }
   ],
   "source": [
    "# 가변자료를 2개 이상 넣은 케이스\n",
    "# 집어넣는 값은 왼쪽부터 하나씩 전달됨\n",
    "# 2개 이상을 집어넣는 경우는 %(첫값,둘값,...)과 같이 튜플로 전달\n",
    "'오늘은 %d월 %d일 입니다.'%(11,16)"
   ]
  },
  {
   "cell_type": "code",
   "execution_count": 100,
   "metadata": {},
   "outputs": [
    {
     "ename": "TypeError",
     "evalue": "%d format: a number is required, not str",
     "output_type": "error",
     "traceback": [
      "\u001b[1;31m---------------------------------------------------------------------------\u001b[0m",
      "\u001b[1;31mTypeError\u001b[0m                                 Traceback (most recent call last)",
      "\u001b[1;32m<ipython-input-100-556813152453>\u001b[0m in \u001b[0;36m<module>\u001b[1;34m\u001b[0m\n\u001b[0;32m      1\u001b[0m \u001b[1;31m# %d, %f에 숫자가 아닌 자료를 넣으면 -> error\u001b[0m\u001b[1;33m\u001b[0m\u001b[1;33m\u001b[0m\u001b[1;33m\u001b[0m\u001b[0m\n\u001b[1;32m----> 2\u001b[1;33m \u001b[1;34m'%d'\u001b[0m\u001b[1;33m%\u001b[0m\u001b[1;34m'1'\u001b[0m\u001b[1;33m\u001b[0m\u001b[1;33m\u001b[0m\u001b[0m\n\u001b[0m",
      "\u001b[1;31mTypeError\u001b[0m: %d format: a number is required, not str"
     ]
    }
   ],
   "source": [
    "# %d, %f에 숫자가 아닌 자료를 넣으면 -> error\n",
    "'%d'%'1'"
   ]
  },
  {
   "cell_type": "markdown",
   "metadata": {},
   "source": [
    "# 2) 문자 대입\n",
    "- %s로 구멍 뚫기\n",
    "- 집어넣는 값에 대해서는 제한이 없다\n",
    "- 만능 포매팅"
   ]
  },
  {
   "cell_type": "code",
   "execution_count": 106,
   "metadata": {},
   "outputs": [
    {
     "data": {
      "text/plain": [
       "'abc123님 접속을 환영합니다.'"
      ]
     },
     "execution_count": 106,
     "metadata": {},
     "output_type": "execute_result"
    }
   ],
   "source": [
    "# 집어넣는 값이 문자\n",
    "'%s님 접속을 환영합니다.'%'abc123'"
   ]
  },
  {
   "cell_type": "code",
   "execution_count": 108,
   "metadata": {},
   "outputs": [
    {
     "data": {
      "text/plain": [
       "'100. 숫자도 가능'"
      ]
     },
     "execution_count": 108,
     "metadata": {},
     "output_type": "execute_result"
    }
   ],
   "source": [
    "# 문자 외의 타입도 가능\n",
    "'%s. 숫자도 가능'%100"
   ]
  },
  {
   "cell_type": "markdown",
   "metadata": {},
   "source": [
    "### 3) 옵션 설정하기\n",
    "\n",
    "> 작성순서 : '%+정렬기호+문자열길이+.+표현할아이템개수+데이터타입' % 집어넣을값\n",
    "* 문자열 길이 : 구멍 뚫린 자리의 문자열 길이, 따로 옵션을 주지 않으면 집어넣을값의 길이에 맞춰짐\n",
    "* 공백 : 문자열 길이 + 정렬 옵션을 설정하면 자동으로 생성됨\n",
    "* 정렬 : 기본적으로는 오른쪽정렬(문자열 길이가 양수값), 음수 값으로 전달하면 왼쪽정렬 \n",
    "* 표현할 아이템 개수 : 실수인 경우는 소수점 아래자리에 적용\n",
    "* 문자열 안에서 % 기호 사용"
   ]
  },
  {
   "cell_type": "code",
   "execution_count": 120,
   "metadata": {},
   "outputs": [
    {
     "data": {
      "text/plain": [
       "'   abc1234님 접속을 환영합니다.'"
      ]
     },
     "execution_count": 120,
     "metadata": {},
     "output_type": "execute_result"
    }
   ],
   "source": [
    "# 가변자료 위치를 10칸 확보하고 오른쪽 정렬\n",
    "'%10s님 접속을 환영합니다.' %'abc1234'"
   ]
  },
  {
   "cell_type": "code",
   "execution_count": 121,
   "metadata": {},
   "outputs": [
    {
     "data": {
      "text/plain": [
       "'abc1234   님 접속을 환영합니다.'"
      ]
     },
     "execution_count": 121,
     "metadata": {},
     "output_type": "execute_result"
    }
   ],
   "source": [
    "# 가변자료 위치를 10칸 확보하고 왼쪽 정렬\n",
    "'%-10s님 접속을 환영합니다.' %'abc1234'"
   ]
  },
  {
   "cell_type": "code",
   "execution_count": 124,
   "metadata": {},
   "outputs": [
    {
     "data": {
      "text/plain": [
       "'12.11                수치 기록'"
      ]
     },
     "execution_count": 124,
     "metadata": {},
     "output_type": "execute_result"
    }
   ],
   "source": [
    "# 실수의 경우는 %칸 확보, 소수점 아래 문자 종류 순으로 나열\n",
    "'%-20.2f 수치 기록'%12.1123124"
   ]
  },
  {
   "cell_type": "markdown",
   "metadata": {},
   "source": [
    "# <<연습문제>>\n",
    "### 조건을 만족하는 포매팅 작성\n",
    "'날짜 : 2019-09-21/출석률 : 90%'\n",
    "- 전달하는 값 4개\n",
    "- 출석한 학생 수 : 19명\n",
    "- 총 학생 수 : 21명\n",
    "- 출석률은 소수점 첫 번째 자리에서 반올림 적용"
   ]
  },
  {
   "cell_type": "code",
   "execution_count": 148,
   "metadata": {},
   "outputs": [
    {
     "data": {
      "text/plain": [
       "'날짜 : 2019-09-21/출석률 : 90%'"
      ]
     },
     "execution_count": 148,
     "metadata": {},
     "output_type": "execute_result"
    }
   ],
   "source": [
    "date='2019-09-21'\n",
    "student=21\n",
    "attend=19\n",
    "attendance=attend/student*100\n",
    "'날짜 : %s/출석률 : %.f%%'%(date,attendance)\n",
    "'날짜 : {}/출석률 : {:.0f}%'.format(date,attendance)"
   ]
  },
  {
   "cell_type": "markdown",
   "metadata": {},
   "source": [
    "### 2. {}포매팅\n",
    "\n",
    "* \"문자열\".format() 을 사용하는 포매팅\n",
    "* 값을 대입하는 방법\n",
    "    - 인덱스 번호(가장 일반적 방법)\n",
    "    - 변수명 & 변수값 => 변수 선언문을 format 함수에 작성, 변수명을 가변자료에 입력\n",
    "    - 인덱스 번호, 변수명 혼합(잘 사용 안함)\n",
    "* 옵션 : 문자열 길이, 정렬, 공백 대체 문자, 표현할 값 개수(데이터타입 지정)\n",
    "\n",
    "### 1) 인덱스 번호로 대입"
   ]
  },
  {
   "cell_type": "code",
   "execution_count": 150,
   "metadata": {},
   "outputs": [
    {
     "data": {
      "text/plain": [
       "'123'"
      ]
     },
     "execution_count": 150,
     "metadata": {},
     "output_type": "execute_result"
    }
   ],
   "source": [
    "# format()함수의 인자 값으로 들어간 위치를 문자열 안의 가변인자 위치에 작성하면 원하는 순서대로 넣을 수 있음\n",
    "# 기본동작(인덱스 번호 미사용시) : 순서대로 대입\n",
    "'{}{}{}'.format(1,2,3)"
   ]
  },
  {
   "cell_type": "code",
   "execution_count": 152,
   "metadata": {},
   "outputs": [
    {
     "data": {
      "text/plain": [
       "'312'"
      ]
     },
     "execution_count": 152,
     "metadata": {},
     "output_type": "execute_result"
    }
   ],
   "source": [
    "# 순번 입력 시 순번 기반으로 입력\n",
    "'{2}{0}{1}'.format(1,2,3)"
   ]
  },
  {
   "cell_type": "markdown",
   "metadata": {},
   "source": [
    "### 2) 변수명 & 변수값 대입\n",
    "- 변수 선언문을 format함수에 작성\n",
    "- 변수명을 {}에 사용"
   ]
  },
  {
   "cell_type": "code",
   "execution_count": 157,
   "metadata": {},
   "outputs": [
    {
     "data": {
      "text/plain": [
       "'100'"
      ]
     },
     "execution_count": 157,
     "metadata": {},
     "output_type": "execute_result"
    }
   ],
   "source": [
    "#{}에 인덱스 번호를대입하는 경우에는 format()합수에 값, 변수(이미 만들어진)를 인자값으로 집어넣음\n",
    "'{x2}'.format(x2=100)"
   ]
  },
  {
   "cell_type": "markdown",
   "metadata": {},
   "source": [
    "### 3) 인덱스 번호 & 변수명 대입\n",
    "- format() 함수 내에서 인덱스 번호에 해당하는 값을 먼저 작성\n",
    "- 번호가 다 사용된 후에 변수 선언문을 사용해야 적용이 잘 됨"
   ]
  },
  {
   "cell_type": "code",
   "execution_count": 158,
   "metadata": {},
   "outputs": [],
   "source": [
    "x=10"
   ]
  },
  {
   "cell_type": "code",
   "execution_count": 160,
   "metadata": {},
   "outputs": [
    {
     "data": {
      "text/plain": [
       "'10 100'"
      ]
     },
     "execution_count": 160,
     "metadata": {},
     "output_type": "execute_result"
    }
   ],
   "source": [
    "#기존에 사용했던(생성했던) 변수와 함께 새롭게 정의한 값을 추가해서 사용\n",
    "#새롭게 정의한 값을 다시 사용할 필요가 없을 때\n",
    "'{} {text}'.format(x,text=100)"
   ]
  },
  {
   "cell_type": "markdown",
   "metadata": {},
   "source": [
    "### 4) 옵션 설정하기\n",
    "\n",
    "> 작성순서 \n",
    "* 데이터타입을 지정하지 않는 경우 : {인덱스번호+:+공백대체문자+정렬기호+문자열길이}\n",
    "* 표현할자리수를 설정하는 경우 : {인덱스번호+:+공백대체문자+정렬기호+문자열길이+표현할자리수+(데이터타입)}\n",
    "    * 정렬 : 가운데 정렬(^), 좌측 정렬(<), 우측 정렬(>)\n",
    "    * 문자열 길이\n",
    "    * 공백 대체 문자 : 문자열 길이와 정렬이 설정되어야 사용할 수 있다.\n",
    "    * 데이터타입 : 실수와 문자 타입만 표현할 자리수를 설정할 수 있다."
   ]
  },
  {
   "cell_type": "code",
   "execution_count": 162,
   "metadata": {},
   "outputs": [
    {
     "data": {
      "text/plain": [
       "'        hi'"
      ]
     },
     "execution_count": 162,
     "metadata": {},
     "output_type": "execute_result"
    }
   ],
   "source": [
    "# 문자열 길이가 10이며 hi라는 문자가 오른쪽으로 정렬된 포매팅\n",
    "'{:>10}'.format('hi')"
   ]
  },
  {
   "cell_type": "code",
   "execution_count": 164,
   "metadata": {},
   "outputs": [
    {
     "data": {
      "text/plain": [
       "'hi        '"
      ]
     },
     "execution_count": 164,
     "metadata": {},
     "output_type": "execute_result"
    }
   ],
   "source": [
    "# 문자열 길이가 10이며 hi라는 문자가 왼쪽으로 정렬된 포매팅\n",
    "'{:<10}'.format('hi')"
   ]
  },
  {
   "cell_type": "code",
   "execution_count": 166,
   "metadata": {},
   "outputs": [
    {
     "data": {
      "text/plain": [
       "'    hi    '"
      ]
     },
     "execution_count": 166,
     "metadata": {},
     "output_type": "execute_result"
    }
   ],
   "source": [
    "# 문자열 길이가 10이며 hi라는 문자가 가운데로 정렬된 포매팅\n",
    "'{:^10}'.format('hi')"
   ]
  },
  {
   "cell_type": "code",
   "execution_count": 168,
   "metadata": {},
   "outputs": [
    {
     "data": {
      "text/plain": [
       "'****hi****'"
      ]
     },
     "execution_count": 168,
     "metadata": {},
     "output_type": "execute_result"
    }
   ],
   "source": [
    "# 가운데 정렬을 하면서 동시에 공백을 *로 채우기\n",
    "'{:*^10}'.format('hi')"
   ]
  },
  {
   "cell_type": "code",
   "execution_count": 170,
   "metadata": {},
   "outputs": [
    {
     "data": {
      "text/plain": [
       "'1.235'"
      ]
     },
     "execution_count": 170,
     "metadata": {},
     "output_type": "execute_result"
    }
   ],
   "source": [
    "# 실수 타입에 사용하는 포매팅\n",
    "# 소주점 3자리까지만 출력\n",
    "# 원래 {} 포매팅은 자료형 지정을 안 하지만 자리수를 설정할때만 예외적으로 지정함\n",
    "'{:.3f}'.format(1.23457)"
   ]
  },
  {
   "cell_type": "code",
   "execution_count": 172,
   "metadata": {},
   "outputs": [
    {
     "data": {
      "text/plain": [
       "'가나다'"
      ]
     },
     "execution_count": 172,
     "metadata": {},
     "output_type": "execute_result"
    }
   ],
   "source": [
    "# 문자에 사용하는 포매팅\n",
    "# 3글자만 출력\n",
    "'{:.3s}'.format('가나다라마바사')"
   ]
  },
  {
   "cell_type": "markdown",
   "metadata": {},
   "source": [
    "## > 문자열 내장함수* = 문자열 메서드\n",
    "    └≫ 내장함수 : 특정 데이터 타입이 자체적으로 가지고 있는 속성으로 존재하는 함수\n",
    "    └≫ 문법 : 변수(데이터타입값).함수명()\n",
    "* count( ) : 특정 문자의 개수 - 정수로 알려줌(없으면 0)\n",
    "* find( ) :특정 문자의 인덱스 번호(위치), 0번에서 가장 가까운 1개만 잡음\n",
    "* join( ) : 특정 기호를 문자열 아이템 사이에 입력\n",
    "* upper( ) : 문자열을 대문자로 변경\n",
    "* lower( ) : 문자열을 소문자로 변경\n",
    "* capitalize( ) : 문자열의 첫 글자를 대문자로\n",
    "* swapcase( ) : 대문자는 소문자로, 소문자는 대문자로 전환\n",
    "* lstrip( ) / rstrip( ) / strip( ) : 좌 / 우 / 앞뒤 공백(기본) 및 특정 문자 지우기\n",
    "* replace( ) : 기존 문자를 새로운 문자로 바꾸기\n",
    "* split( ) : 특정 기호를 기준으로 문자열을 아이템 단위로 나누어 리스트로 반환\n",
    "* center( ) : 문자열 길이를 지정하여 대상 문자열을 중앙 정렬\n",
    "* ljust( ) : 문자열 길이를 지정하여 대상 문자열을 왼쪽 정렬(justify)\n",
    "* rjust( ) : 문자열 길이를 지정하여 대상 문자열을 오른쪽 정렬"
   ]
  },
  {
   "cell_type": "code",
   "execution_count": 182,
   "metadata": {},
   "outputs": [
    {
     "data": {
      "text/plain": [
       "4"
      ]
     },
     "execution_count": 182,
     "metadata": {},
     "output_type": "execute_result"
    }
   ],
   "source": [
    "# 문자열 생성\n",
    "text = 'tomato juice'\n",
    "text.count('t')#2\n",
    "text.count('to')#2글자 이상도 가능\n",
    "text.count('z')#0\n",
    "text.find('t')#t가 들어간 첫 인덱스 0\n",
    "text.find('to')#0\n",
    "text.find('to ')#4\n",
    "text.find('t',1)#2번째 t 출력(1번 인덱스 이후로(포함해서))"
   ]
  },
  {
   "cell_type": "code",
   "execution_count": 193,
   "metadata": {},
   "outputs": [],
   "source": [
    "text3='                 123            123           '"
   ]
  },
  {
   "cell_type": "code",
   "execution_count": 190,
   "metadata": {},
   "outputs": [
    {
     "data": {
      "text/plain": [
       "'TOMATO JUICE'"
      ]
     },
     "execution_count": 190,
     "metadata": {},
     "output_type": "execute_result"
    }
   ],
   "source": [
    "# upper(), lower(), capitalize(), swapcase()\n",
    "#변경한 결과를 시뮬레이션해서 보여줌(원본은 바뀌지 않음)\n",
    "text.upper() #'TOMATO JUICE'\n",
    "text.lower() #'tomato juice'\n",
    "text.capitalize() #'Tomato juice'\n",
    "text.swapcase() #'TOMATO JUICE'"
   ]
  },
  {
   "cell_type": "code",
   "execution_count": 195,
   "metadata": {},
   "outputs": [
    {
     "data": {
      "text/plain": [
       "'123            123           '"
      ]
     },
     "execution_count": 195,
     "metadata": {},
     "output_type": "execute_result"
    }
   ],
   "source": [
    "#lstrip()\n",
    "# 왼쪽 공백 전부 제거, 가운데는 제거 안함\n",
    "# 임시적 결과만 보여줌(원본 변형 x)\n",
    "text3.lstrip()"
   ]
  },
  {
   "cell_type": "code",
   "execution_count": 197,
   "metadata": {},
   "outputs": [
    {
     "data": {
      "text/plain": [
       "'                 123            123'"
      ]
     },
     "execution_count": 197,
     "metadata": {},
     "output_type": "execute_result"
    }
   ],
   "source": [
    "#rstrip()\n",
    "# 오른쪽 공백 전부 제거, 가운데는 제거 안함\n",
    "# 임시적 결과만 보여줌(원본 변형 x)\n",
    "text3.rstrip()"
   ]
  },
  {
   "cell_type": "code",
   "execution_count": 199,
   "metadata": {},
   "outputs": [
    {
     "data": {
      "text/plain": [
       "'123            123'"
      ]
     },
     "execution_count": 199,
     "metadata": {},
     "output_type": "execute_result"
    }
   ],
   "source": [
    "#strip()\n",
    "# 왼쪽 오른쪽 구분 없이 공백 다 제거\n",
    "text3.strip()"
   ]
  },
  {
   "cell_type": "code",
   "execution_count": 205,
   "metadata": {},
   "outputs": [
    {
     "data": {
      "text/plain": [
       "'123123'"
      ]
     },
     "execution_count": 205,
     "metadata": {},
     "output_type": "execute_result"
    }
   ],
   "source": [
    "#replace(old, new)\n",
    "#찾아 바꾸기, 문자열 내에서 old에 해당하는 문자를 찾아 new로 대체\n",
    "#공백 역시 찾아 없앨 수 있음\n",
    "# 열시 원본자료에는 영향을 미치지 않고 일시적으로 변경\n",
    "text3.replace(' ','')"
   ]
  },
  {
   "cell_type": "code",
   "execution_count": 210,
   "metadata": {},
   "outputs": [
    {
     "data": {
      "text/plain": [
       "['a', 'b', 'c']"
      ]
     },
     "execution_count": 210,
     "metadata": {},
     "output_type": "execute_result"
    }
   ],
   "source": [
    "#split('기준')\n",
    "#쪼개기\n",
    "#기준 입력시 기준점을 기준으로 쪼개고 입력 안하면 ' ',\\n, \\t 등을 기준으로 쪼갬\n",
    "text4 = 'a b c'\n",
    "text4.split()"
   ]
  },
  {
   "cell_type": "code",
   "execution_count": 212,
   "metadata": {},
   "outputs": [
    {
     "data": {
      "text/plain": [
       "['a', 'b', 'c', 'ddes']"
      ]
     },
     "execution_count": 212,
     "metadata": {},
     "output_type": "execute_result"
    }
   ],
   "source": [
    "#기준 설정 시 공백이 아닌 기준 대상으로 쪼개기\n",
    "#\",\" 대상으로 쪼갤 경우 나오는 text5의 결과물은 4개\n",
    "text5 = 'a,b,c,ddes'\n",
    "text5.split(',')"
   ]
  },
  {
   "cell_type": "code",
   "execution_count": null,
   "metadata": {},
   "outputs": [],
   "source": []
  }
 ],
 "metadata": {
  "kernelspec": {
   "display_name": "Python 3",
   "language": "python",
   "name": "python3"
  },
  "language_info": {
   "codemirror_mode": {
    "name": "ipython",
    "version": 3
   },
   "file_extension": ".py",
   "mimetype": "text/x-python",
   "name": "python",
   "nbconvert_exporter": "python",
   "pygments_lexer": "ipython3",
   "version": "3.7.4"
  }
 },
 "nbformat": 4,
 "nbformat_minor": 2
}
