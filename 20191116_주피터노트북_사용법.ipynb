{
 "cells": [
  {
   "cell_type": "markdown",
   "metadata": {},
   "source": [
    "# 주피터 노트북 사용법\n",
    "\n",
    "1. 셀을 클릭하면 녹색으로 선택 영역이 지정됨.\n",
    "2. 녹색으로 선택된 셀에는 키보드 입력시 코드/입력문이 직접 입력됨.\n",
    "3. 녹색으로 선택된 셀에 esc키를 입력하거나 혹은 셀만 선택시 파란색으로 선택됨.\n",
    "\n",
    "파란색으로 선택된 상태에서 \n",
    "b(below)를 누르면 -> 선택된 셀 아래에 입력용 셀 추가\n",
    "a(above)를 누르면 -> 선택된 셀 위에 입력용 셀 추가\n",
    "dd를 누르면 -> 선택된 셀 삭제\n",
    "\n",
    "m(markdown)을 누르면 -> 선택된 셀을 코드 입력용이 아닌 필기용으로 전환.\n",
    "y를 누르면 -> 선택된 셀을 필기용에서 코드입력용으로 전환\n",
    "# 강조\n",
    "## 강조\n",
    "### 강조\n",
    "#### 강조\n",
    "##### 강조\n",
    "###### 최대 6개\n",
    "\n",
    "필기용 셀에 작성을 완료했다면 SHIFT+ENTER를 눌러 필기를 확정지을 수 있습니다.\n",
    "추후 수정 가능\n",
    "- 나열해서 필기하고 싶다면 - 한칸 뒤에 필기\n",
    "    - 띄어쓰기 네 칸 뒤에 -를 작성하면 상위 -의 하위 항목으로 간주됩니다.\n",
    "        - 추가로 띄어쓰기 네 칸 뒤에 -를 작성하면 하위 항목의 하위 항목이 됩니다.\n",
    "        "
   ]
  }
 ],
 "metadata": {
  "kernelspec": {
   "display_name": "Python 3",
   "language": "python",
   "name": "python3"
  },
  "language_info": {
   "codemirror_mode": {
    "name": "ipython",
    "version": 3
   },
   "file_extension": ".py",
   "mimetype": "text/x-python",
   "name": "python",
   "nbconvert_exporter": "python",
   "pygments_lexer": "ipython3",
   "version": "3.7.4"
  }
 },
 "nbformat": 4,
 "nbformat_minor": 2
}
