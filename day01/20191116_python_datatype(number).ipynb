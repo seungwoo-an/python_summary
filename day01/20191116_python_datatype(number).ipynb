{
 "cells": [
  {
   "cell_type": "markdown",
   "metadata": {},
   "source": [
    "# Data Type\n",
    "## #>숫자형\n",
    "- #### 종류\n",
    "    - 정수 : 0, 양수, 음수인 숫자\n",
    "    - 실수 : 소수점을 포함하는 숫자\n",
    "    - 8진수(octal)(0o 또는 00로 시작) : 0o34, 0o25\n",
    "        - 프로그램 용량체계에 쓰임\n",
    "        - bit*8 = 1 byte\n",
    "    - 16진수(hexa-decemal)(0x로 시작) : 0x2A, 0xFF\n",
    "        - 메모리 주소 표시에 사용\n",
    "    "
   ]
  },
  {
   "cell_type": "code",
   "execution_count": 16,
   "metadata": {},
   "outputs": [],
   "source": [
    "# 양수, 음수, 0\n",
    "a=10\n",
    "a\n",
    "b=20\n",
    "#마지막 할당된 변수값 나옴\n",
    "c=30\n",
    "print(type(a),type(b),type(c))"
   ]
  },
  {
   "cell_type": "markdown",
   "metadata": {},
   "source": [
    "### 정수 타입 : 타입(데이터종류) 확인하는 내장함수 type()\n"
   ]
  },
  {
   "cell_type": "code",
   "execution_count": 21,
   "metadata": {},
   "outputs": [
    {
     "name": "stdout",
     "output_type": "stream",
     "text": [
      "<class 'float'> <class 'float'> <class 'float'>\n"
     ]
    }
   ],
   "source": [
    "# 양의 실수, 음의 실수 :  float\n",
    "a=1.3\n",
    "b=-2.4\n",
    "c=0.0\n",
    "print(type(a),type(b),type(c))"
   ]
  },
  {
   "cell_type": "code",
   "execution_count": 23,
   "metadata": {},
   "outputs": [
    {
     "name": "stdout",
     "output_type": "stream",
     "text": [
      "<class 'int'> <class 'float'>\n"
     ]
    }
   ],
   "source": [
    "print(type(0), type(0.0))"
   ]
  },
  {
   "cell_type": "markdown",
   "metadata": {},
   "source": [
    "## > 연산자\n",
    "- 산술 : +, -, *, /, //(몫), %(나머지), **(제곱)\n",
    "- 비교 : ==(값이 같은지), !=(다른지), <=, >=, <, >\n",
    "- 논리 : and, or\n",
    "- 할당 : =, +=, -=, *=, /=(몫만 남기기), %=(나머지만 남기기)"
   ]
  },
  {
   "cell_type": "markdown",
   "metadata": {},
   "source": [
    "### 1) 산술 연산자 : 숫자를 계산하기 위한 문법 기호"
   ]
  },
  {
   "cell_type": "code",
   "execution_count": 32,
   "metadata": {},
   "outputs": [
    {
     "data": {
      "text/plain": [
       "13.6"
      ]
     },
     "execution_count": 32,
     "metadata": {},
     "output_type": "execute_result"
    }
   ],
   "source": [
    "# 더하기 : +\n",
    "10 +3\n",
    "13.3+2.3\n",
    "10+3.6"
   ]
  },
  {
   "cell_type": "code",
   "execution_count": 34,
   "metadata": {},
   "outputs": [
    {
     "data": {
      "text/plain": [
       "-4.7"
      ]
     },
     "execution_count": 34,
     "metadata": {},
     "output_type": "execute_result"
    }
   ],
   "source": [
    "# 빼기 : -\n",
    "3-7.7"
   ]
  },
  {
   "cell_type": "code",
   "execution_count": 38,
   "metadata": {},
   "outputs": [
    {
     "data": {
      "text/plain": [
       "0.42857142857142855"
      ]
     },
     "execution_count": 38,
     "metadata": {},
     "output_type": "execute_result"
    }
   ],
   "source": [
    "# 나누기 : /\n",
    "3/7 #정수 / 정수 =실수\n"
   ]
  },
  {
   "cell_type": "code",
   "execution_count": 43,
   "metadata": {},
   "outputs": [
    {
     "data": {
      "text/plain": [
       "8"
      ]
     },
     "execution_count": 43,
     "metadata": {},
     "output_type": "execute_result"
    }
   ],
   "source": [
    "# 곱하기 : *\n",
    "3 * 4\n",
    "3 * -3 * 5\n",
    "(5 - 3) * 4\n"
   ]
  },
  {
   "cell_type": "code",
   "execution_count": 47,
   "metadata": {},
   "outputs": [
    {
     "data": {
      "text/plain": [
       "2"
      ]
     },
     "execution_count": 47,
     "metadata": {},
     "output_type": "execute_result"
    }
   ],
   "source": [
    "# 몫만 반환 : //\n",
    "# 나눗셈의 결과값보다 작은 정수중에 가장 큰 정수\n",
    "14//3\n",
    "# 나머지 반환 : %\n",
    "14%3"
   ]
  },
  {
   "cell_type": "code",
   "execution_count": 51,
   "metadata": {},
   "outputs": [
    {
     "data": {
      "text/plain": [
       "1"
      ]
     },
     "execution_count": 51,
     "metadata": {},
     "output_type": "execute_result"
    }
   ],
   "source": [
    "-3 // 4 # 나눗셈의 결과값보다 작은 정수중에 가장 큰 정수 : -1\n",
    "-3 % 4"
   ]
  },
  {
   "cell_type": "code",
   "execution_count": 54,
   "metadata": {},
   "outputs": [
    {
     "data": {
      "text/plain": [
       "3"
      ]
     },
     "execution_count": 54,
     "metadata": {},
     "output_type": "execute_result"
    }
   ],
   "source": [
    "-3%4\n",
    "-13%4"
   ]
  },
  {
   "cell_type": "code",
   "execution_count": 59,
   "metadata": {},
   "outputs": [
    {
     "data": {
      "text/plain": [
       "1.4142135623730951"
      ]
     },
     "execution_count": 59,
     "metadata": {},
     "output_type": "execute_result"
    }
   ],
   "source": [
    "#지수 : **\n",
    "2 **100\n",
    "2**0.5"
   ]
  },
  {
   "cell_type": "markdown",
   "metadata": {},
   "source": [
    "### 2) 비교 연산자 : 숫자를 비교하기 위한 문법 기호\n",
    "    - 결과가 숫자가 아니라 bool type의 결과를 가진다    \n",
    "> #### bool type\n",
    "    - True : 0이 아닌 숫자, 참인 조건식 등\n",
    "    - False : 0, 거짓인 조건식 등\n",
    "- 값에 대한 비교 : ==, !=\n",
    "- 크기에 대한 비교 : >, <, <=, >="
   ]
  },
  {
   "cell_type": "code",
   "execution_count": 73,
   "metadata": {},
   "outputs": [
    {
     "data": {
      "text/plain": [
       "True"
      ]
     },
     "execution_count": 73,
     "metadata": {},
     "output_type": "execute_result"
    }
   ],
   "source": [
    "'가'<\"나\"#true\n",
    "'a'<'b'#true\n",
    "'a'>'A'#true"
   ]
  },
  {
   "cell_type": "code",
   "execution_count": 76,
   "metadata": {},
   "outputs": [
    {
     "data": {
      "text/plain": [
       "True"
      ]
     },
     "execution_count": 76,
     "metadata": {},
     "output_type": "execute_result"
    }
   ],
   "source": [
    "# 두 값이 같은지 비교 : ==\n",
    "type(0)==type(0.0)#f\n",
    "0==0.0#t"
   ]
  },
  {
   "cell_type": "code",
   "execution_count": 80,
   "metadata": {},
   "outputs": [
    {
     "data": {
      "text/plain": [
       "False"
      ]
     },
     "execution_count": 80,
     "metadata": {},
     "output_type": "execute_result"
    }
   ],
   "source": [
    "# 두 값이 다른 지 비교 : !=\n",
    "type(0) != type(0.0)#t\n",
    "0!=0.0#f"
   ]
  },
  {
   "cell_type": "code",
   "execution_count": 83,
   "metadata": {},
   "outputs": [
    {
     "data": {
      "text/plain": [
       "False"
      ]
     },
     "execution_count": 83,
     "metadata": {},
     "output_type": "execute_result"
    }
   ],
   "source": [
    "# 두값의 크기를 비교 : >=, <=, <, >\n",
    "10<3#f\n",
    "10>3#t\n",
    "10>=3#t\n",
    "3<=3#t\n",
    "10<=3<f"
   ]
  },
  {
   "cell_type": "markdown",
   "metadata": {},
   "source": [
    "#### 3) 논리 연산자\n",
    "- 여러 개의 조건식을 활용하기 위한 명령어\n",
    "- bool type결과 반환 : T, F"
   ]
  },
  {
   "cell_type": "code",
   "execution_count": 85,
   "metadata": {},
   "outputs": [
    {
     "data": {
      "text/plain": [
       "True"
      ]
     },
     "execution_count": 85,
     "metadata": {},
     "output_type": "execute_result"
    }
   ],
   "source": [
    "#숫자 0은 F, 이외의 모든 숫자는 T\n",
    "#bool()함수는 자료의 참, 거짓을 판단해준다\n",
    "bool(0)#F\n",
    "bool(10)#T"
   ]
  },
  {
   "cell_type": "code",
   "execution_count": 86,
   "metadata": {},
   "outputs": [
    {
     "data": {
      "text/plain": [
       "False"
      ]
     },
     "execution_count": 86,
     "metadata": {},
     "output_type": "execute_result"
    }
   ],
   "source": [
    "#0이 F로 사용되는 예시\n",
    "bool(0 and 10 > 3)#F\n"
   ]
  },
  {
   "cell_type": "code",
   "execution_count": 92,
   "metadata": {},
   "outputs": [
    {
     "data": {
      "text/plain": [
       "False"
      ]
     },
     "execution_count": 92,
     "metadata": {},
     "output_type": "execute_result"
    }
   ],
   "source": [
    "# or 연산자\n",
    "# 둘 중 하나만 T여도 최종 결과 T\n",
    "0 or 10 < 3"
   ]
  },
  {
   "cell_type": "markdown",
   "metadata": {},
   "source": [
    "#### 4) 할당 연산자\n",
    "- 변수 할당\n",
    "- 누적 연산"
   ]
  },
  {
   "cell_type": "code",
   "execution_count": 300,
   "metadata": {},
   "outputs": [
    {
     "data": {
      "text/plain": [
       "10"
      ]
     },
     "execution_count": 300,
     "metadata": {},
     "output_type": "execute_result"
    }
   ],
   "source": [
    "#변수명(왼쪽)에 변수값(오른쪽)을 할당/선언/저장 : =\n",
    "x=10\n",
    "x"
   ]
  },
  {
   "cell_type": "code",
   "execution_count": 301,
   "metadata": {},
   "outputs": [
    {
     "data": {
      "text/plain": [
       "20"
      ]
     },
     "execution_count": 301,
     "metadata": {},
     "output_type": "execute_result"
    }
   ],
   "source": [
    "#숫자형의 누적 합계 : +=\n",
    "x+=10\n",
    "x"
   ]
  },
  {
   "cell_type": "code",
   "execution_count": 308,
   "metadata": {},
   "outputs": [
    {
     "data": {
      "text/plain": [
       "55"
      ]
     },
     "execution_count": 308,
     "metadata": {},
     "output_type": "execute_result"
    }
   ],
   "source": [
    "# 1~10까지 누적합\n",
    "result=0\n",
    "for i in range(1,11):\n",
    "    result+=i\n",
    "result"
   ]
  },
  {
   "cell_type": "code",
   "execution_count": 309,
   "metadata": {},
   "outputs": [
    {
     "data": {
      "text/plain": [
       "54"
      ]
     },
     "execution_count": 309,
     "metadata": {},
     "output_type": "execute_result"
    }
   ],
   "source": [
    "#숫자형의 누적 차\n",
    "result-=1\n",
    "result"
   ]
  },
  {
   "cell_type": "code",
   "execution_count": 310,
   "metadata": {},
   "outputs": [
    {
     "data": {
      "text/plain": [
       "108"
      ]
     },
     "execution_count": 310,
     "metadata": {},
     "output_type": "execute_result"
    }
   ],
   "source": [
    "#누적 곱\n",
    "result *=2\n",
    "result"
   ]
  },
  {
   "cell_type": "markdown",
   "metadata": {},
   "source": [
    "# 문제"
   ]
  },
  {
   "cell_type": "markdown",
   "metadata": {},
   "source": [
    "홍길동의 시험 성적 평균 구하기<br>\n",
    "영어 80 국어 72 수학 90 사회 66<br>\n",
    "총합 308<br>\n",
    "평균 77<br>"
   ]
  },
  {
   "cell_type": "code",
   "execution_count": 317,
   "metadata": {},
   "outputs": [
    {
     "name": "stdout",
     "output_type": "stream",
     "text": [
      "총합 : 308\n",
      "평균 : 77\n"
     ]
    }
   ],
   "source": [
    "eng,kor,math,soc=80,72,90,66\n",
    "sum=eng+kor+math+soc\n",
    "avg=sum/4\n",
    "print(\"총합 :\",sum)\n",
    "print(\"평균 : %d\"%avg)"
   ]
  },
  {
   "cell_type": "markdown",
   "metadata": {},
   "source": [
    "# 문제\n",
    "반지름 7인 원넓이 구하기<br>\n",
    "소수점 없이 정수로 출력"
   ]
  },
  {
   "cell_type": "code",
   "execution_count": 332,
   "metadata": {},
   "outputs": [
    {
     "name": "stdout",
     "output_type": "stream",
     "text": [
      "반지름 : 7\n",
      "원의 넓이 : 153\n"
     ]
    }
   ],
   "source": [
    "r=7\n",
    "pi=3.14\n",
    "circle=(r**2)*pi\n",
    "print(\"반지름 :\",r)\n",
    "print(\"원의 넓이 :\",int(circle))"
   ]
  },
  {
   "cell_type": "markdown",
   "metadata": {},
   "source": [
    "# 문제\n",
    "임의의 변수에 원하는 숫자 집어넣고 숫자의 제곱근과 세제곱 값 출력"
   ]
  },
  {
   "cell_type": "code",
   "execution_count": 337,
   "metadata": {},
   "outputs": [
    {
     "name": "stdout",
     "output_type": "stream",
     "text": [
      "숫자 입력8\n",
      "제곱근 :  2.8284271247461903\n",
      "세제곱 :  512\n"
     ]
    }
   ],
   "source": [
    "num = int(input(\"숫자 입력\"))\n",
    "print(\"제곱근 : \",num**0.5)# 1/3, 1/4, 1/5 -> 3,4,5제곱근\n",
    "print(\"세제곱 : \",num**3)"
   ]
  },
  {
   "cell_type": "code",
   "execution_count": null,
   "metadata": {},
   "outputs": [],
   "source": []
  }
 ],
 "metadata": {
  "kernelspec": {
   "display_name": "Python 3",
   "language": "python",
   "name": "python3"
  },
  "language_info": {
   "codemirror_mode": {
    "name": "ipython",
    "version": 3
   },
   "file_extension": ".py",
   "mimetype": "text/x-python",
   "name": "python",
   "nbconvert_exporter": "python",
   "pygments_lexer": "ipython3",
   "version": "3.7.4"
  }
 },
 "nbformat": 4,
 "nbformat_minor": 2
}
